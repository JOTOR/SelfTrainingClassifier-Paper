{
 "cells": [
  {
   "cell_type": "code",
   "execution_count": 1,
   "id": "975c64be-044f-4a0b-873a-171466edf4d9",
   "metadata": {},
   "outputs": [],
   "source": [
    "from datasets import load_dataset\n",
    "import numpy as np\n",
    "import pandas as pd\n",
    "from sklearn.feature_extraction.text import TfidfVectorizer\n",
    "from sklearn.pipeline import make_pipeline\n",
    "from sklearn.linear_model import LogisticRegression, SGDClassifier\n",
    "from sklearn.semi_supervised import SelfTrainingClassifier\n",
    "from sklearn.model_selection import cross_validate, StratifiedKFold\n",
    "from sklearn.metrics import accuracy_score, f1_score\n",
    "from collections import Counter\n",
    "import time\n",
    "import matplotlib.pyplot as plt\n",
    "import seaborn as sns"
   ]
  },
  {
   "cell_type": "code",
   "execution_count": 2,
   "id": "45107ca8-c876-4a8f-8967-6994a24508f7",
   "metadata": {},
   "outputs": [],
   "source": [
    "plt.style.use(\"seaborn-whitegrid\")"
   ]
  },
  {
   "cell_type": "code",
   "execution_count": 3,
   "id": "7d985ce7-de33-4ce0-9795-4149c669013c",
   "metadata": {},
   "outputs": [],
   "source": [
    "RANDOM_SEED = 1234\n",
    "SPLITS = 5"
   ]
  },
  {
   "cell_type": "code",
   "execution_count": 4,
   "id": "e11d26bd-e407-46f7-bf3d-89c36a7b0b8e",
   "metadata": {},
   "outputs": [],
   "source": [
    "np.random.seed(RANDOM_SEED)"
   ]
  },
  {
   "cell_type": "code",
   "execution_count": 5,
   "id": "2be86c3c-9bc4-4393-ac56-28288c6f128d",
   "metadata": {
    "scrolled": true,
    "tags": []
   },
   "outputs": [
    {
     "name": "stderr",
     "output_type": "stream",
     "text": [
      "Using custom data configuration argilla--tripadvisor-hotel-reviews-65a1a654a92c400c\n",
      "Found cached dataset parquet (/home/studio-lab-user/.cache/huggingface/datasets/argilla___parquet/argilla--tripadvisor-hotel-reviews-65a1a654a92c400c/0.0.0/2a3b91fbd88a2c90d1dbbb32b460cf621d31bd5b05b934492fdef7d8d6f236ec)\n"
     ]
    },
    {
     "data": {
      "application/vnd.jupyter.widget-view+json": {
       "model_id": "e7b94f89c8034a5d9283f4323b9aea65",
       "version_major": 2,
       "version_minor": 0
      },
      "text/plain": [
       "  0%|          | 0/1 [00:00<?, ?it/s]"
      ]
     },
     "metadata": {},
     "output_type": "display_data"
    }
   ],
   "source": [
    "sst_dataset = load_dataset(\"argilla/tripadvisor-hotel-reviews\")"
   ]
  },
  {
   "cell_type": "code",
   "execution_count": 6,
   "id": "e61e0fb9-d57e-47da-8824-01e4d3846099",
   "metadata": {
    "scrolled": true,
    "tags": []
   },
   "outputs": [
    {
     "data": {
      "text/plain": [
       "DatasetDict({\n",
       "    train: Dataset({\n",
       "        features: ['text', 'inputs', 'prediction', 'prediction_agent', 'annotation', 'annotation_agent', 'multi_label', 'explanation', 'id', 'metadata', 'status', 'event_timestamp', 'metrics'],\n",
       "        num_rows: 20491\n",
       "    })\n",
       "})"
      ]
     },
     "execution_count": 6,
     "metadata": {},
     "output_type": "execute_result"
    }
   ],
   "source": [
    "sst_dataset"
   ]
  },
  {
   "cell_type": "code",
   "execution_count": 7,
   "id": "f62b230e-5a74-4ba5-9af8-3729e785bb01",
   "metadata": {},
   "outputs": [
    {
     "data": {
      "text/plain": [
       "['beautiful accomodations stayed hotel santa maria novella night wished stayed entirety days florence simply gorgeous accomodations, room stayed cheapest rate available assuming simplest abode offer beautiful hardwood floors bed linens comfortable mattress difficult italy drapes fantastic marble bathroom, nicer expecting especially price, location not central 10-minute walk sights close train station away noise bustle busier locations, close upscale shopping lots trattorias, nice oasis hectic sightseeing florence highly recommed hotel hotels higher ranked website,  ',\n",
       " 'great hotel great location hotel located la rambla city centre close access shops tour buses.the room immaculate 42 plasma screen screen bathroom.there nice blue ambient lighting room good amenities.the bathroom large equipped.concierge staff overall friendly helpful recommended lot restaurants night spots visit absolutely wonderful.there business centre use free open 24 hours.the thing disliked face in-room safe bit small did not fit laptop.i definitely recommend hotel,  ']"
      ]
     },
     "execution_count": 7,
     "metadata": {},
     "output_type": "execute_result"
    }
   ],
   "source": [
    "sst_dataset[\"train\"][\"text\"][0:2]"
   ]
  },
  {
   "cell_type": "code",
   "execution_count": 8,
   "id": "f991c64d-9e97-444c-8a80-44c624727c3c",
   "metadata": {},
   "outputs": [],
   "source": [
    "labels = [int(x[0][\"label\"]) for x in sst_dataset[\"train\"][\"prediction\"]]"
   ]
  },
  {
   "cell_type": "code",
   "execution_count": 9,
   "id": "26244464-ba61-4472-8ee4-877c0d67f122",
   "metadata": {},
   "outputs": [
    {
     "data": {
      "text/plain": [
       "[4, 5, 4, 4, 1, 5, 5, 4, 5, 5]"
      ]
     },
     "execution_count": 9,
     "metadata": {},
     "output_type": "execute_result"
    }
   ],
   "source": [
    "labels[0:10]"
   ]
  },
  {
   "cell_type": "code",
   "execution_count": 10,
   "id": "b97d6dce-5cb4-497c-8aa7-afb91f678fa4",
   "metadata": {},
   "outputs": [],
   "source": [
    "def new_bin_label(x):\n",
    "    if x==1:\n",
    "        return 1\n",
    "    if x==2:\n",
    "        return 1\n",
    "    if x==3:\n",
    "        return 3\n",
    "    if x==4:\n",
    "        return 5\n",
    "    if x==5:\n",
    "        return 5"
   ]
  },
  {
   "cell_type": "code",
   "execution_count": 11,
   "id": "650ee182-19e0-4bfb-b3ec-9bdc61a3c1d6",
   "metadata": {},
   "outputs": [],
   "source": [
    "new_binary_labels = pd.Series(labels).apply(new_bin_label)"
   ]
  },
  {
   "cell_type": "code",
   "execution_count": 12,
   "id": "0e05df36-706a-499d-9c60-5a1cc4b54465",
   "metadata": {},
   "outputs": [
    {
     "data": {
      "text/plain": [
       "5    15093\n",
       "1     3214\n",
       "3     2184\n",
       "dtype: int64"
      ]
     },
     "execution_count": 12,
     "metadata": {},
     "output_type": "execute_result"
    }
   ],
   "source": [
    "new_binary_labels.value_counts()"
   ]
  },
  {
   "cell_type": "code",
   "execution_count": 13,
   "id": "3abe4733-a944-45ad-a79f-0793cdb623ac",
   "metadata": {},
   "outputs": [],
   "source": [
    "sst = pd.DataFrame()\n",
    "sst[\"text\"] = sst_dataset[\"train\"][\"text\"]\n",
    "sst[\"label\"] = new_binary_labels"
   ]
  },
  {
   "cell_type": "code",
   "execution_count": 14,
   "id": "a9652608-4381-468c-8942-d6c6dc9e6b7b",
   "metadata": {},
   "outputs": [
    {
     "data": {
      "text/plain": [
       "(20491, 2)"
      ]
     },
     "execution_count": 14,
     "metadata": {},
     "output_type": "execute_result"
    }
   ],
   "source": [
    "sst.drop_duplicates(inplace=True)\n",
    "sst.shape"
   ]
  },
  {
   "cell_type": "code",
   "execution_count": 15,
   "id": "8626c886-ebbe-4bb7-9537-42b314df746e",
   "metadata": {},
   "outputs": [
    {
     "data": {
      "text/plain": [
       "(18307, 2)"
      ]
     },
     "execution_count": 15,
     "metadata": {},
     "output_type": "execute_result"
    }
   ],
   "source": [
    "sst = sst[(sst[\"label\"]==1) | (sst[\"label\"]==5)]\n",
    "sst.shape"
   ]
  },
  {
   "cell_type": "code",
   "execution_count": 16,
   "id": "7fc37ce6-7bf9-4bfe-a325-b85652e94d44",
   "metadata": {},
   "outputs": [],
   "source": [
    "sst.reset_index(inplace=True)"
   ]
  },
  {
   "cell_type": "code",
   "execution_count": 17,
   "id": "932ae00e-2438-497f-a438-c75c171973d2",
   "metadata": {},
   "outputs": [],
   "source": [
    "sst.drop(columns=\"index\", inplace=True)"
   ]
  },
  {
   "cell_type": "code",
   "execution_count": 18,
   "id": "e972ea3c-54a1-45b9-ab5f-2c27489c57ed",
   "metadata": {},
   "outputs": [
    {
     "data": {
      "text/html": [
       "<div>\n",
       "<style scoped>\n",
       "    .dataframe tbody tr th:only-of-type {\n",
       "        vertical-align: middle;\n",
       "    }\n",
       "\n",
       "    .dataframe tbody tr th {\n",
       "        vertical-align: top;\n",
       "    }\n",
       "\n",
       "    .dataframe thead th {\n",
       "        text-align: right;\n",
       "    }\n",
       "</style>\n",
       "<table border=\"1\" class=\"dataframe\">\n",
       "  <thead>\n",
       "    <tr style=\"text-align: right;\">\n",
       "      <th></th>\n",
       "      <th>text</th>\n",
       "      <th>label</th>\n",
       "    </tr>\n",
       "  </thead>\n",
       "  <tbody>\n",
       "    <tr>\n",
       "      <th>0</th>\n",
       "      <td>beautiful accomodations stayed hotel santa mar...</td>\n",
       "      <td>5</td>\n",
       "    </tr>\n",
       "    <tr>\n",
       "      <th>1</th>\n",
       "      <td>great hotel great location hotel located la ra...</td>\n",
       "      <td>5</td>\n",
       "    </tr>\n",
       "  </tbody>\n",
       "</table>\n",
       "</div>"
      ],
      "text/plain": [
       "                                                text  label\n",
       "0  beautiful accomodations stayed hotel santa mar...      5\n",
       "1  great hotel great location hotel located la ra...      5"
      ]
     },
     "execution_count": 18,
     "metadata": {},
     "output_type": "execute_result"
    }
   ],
   "source": [
    "sst.head(2)"
   ]
  },
  {
   "cell_type": "code",
   "execution_count": 19,
   "id": "753e59f8-b8fc-404b-9eb8-fda8bc8fff12",
   "metadata": {},
   "outputs": [
    {
     "data": {
      "text/plain": [
       "5    82.443874\n",
       "1    17.556126\n",
       "Name: label, dtype: float64"
      ]
     },
     "execution_count": 19,
     "metadata": {},
     "output_type": "execute_result"
    }
   ],
   "source": [
    "sst.label.value_counts(normalize=True) * 100"
   ]
  },
  {
   "cell_type": "code",
   "execution_count": 20,
   "id": "331e3897-a12f-42e1-ad8a-974d21cbc13b",
   "metadata": {},
   "outputs": [],
   "source": [
    "def get_dict_size(text):\n",
    "    vec = TfidfVectorizer(lowercase=True, ngram_range=(1,1), analyzer=\"word\").fit(text)\n",
    "    DICT_SIZE = len(vec.get_feature_names_out())\n",
    "    return DICT_SIZE"
   ]
  },
  {
   "cell_type": "code",
   "execution_count": 21,
   "id": "72f67379-ef44-4449-b181-3b5ae19c45d9",
   "metadata": {},
   "outputs": [
    {
     "name": "stdout",
     "output_type": "stream",
     "text": [
      "49979\n"
     ]
    }
   ],
   "source": [
    "DICT_SIZE = get_dict_size(sst[\"text\"])\n",
    "print(DICT_SIZE)"
   ]
  },
  {
   "cell_type": "code",
   "execution_count": 22,
   "id": "635f4b53-3bc1-4fd6-a47e-2342a110799c",
   "metadata": {},
   "outputs": [],
   "source": [
    "pl = make_pipeline(TfidfVectorizer(max_features=int(DICT_SIZE * 0.9), lowercase=True, ngram_range=(1,1), analyzer=\"word\"),\n",
    "                   LogisticRegression(C=0.5, class_weight=\"balanced\", random_state=RANDOM_SEED, max_iter=250)\n",
    "                  )"
   ]
  },
  {
   "cell_type": "code",
   "execution_count": 23,
   "id": "8220300b-47ad-4b53-8021-3214bb03fddf",
   "metadata": {},
   "outputs": [
    {
     "data": {
      "text/html": [
       "<style>#sk-container-id-1 {color: black;background-color: white;}#sk-container-id-1 pre{padding: 0;}#sk-container-id-1 div.sk-toggleable {background-color: white;}#sk-container-id-1 label.sk-toggleable__label {cursor: pointer;display: block;width: 100%;margin-bottom: 0;padding: 0.3em;box-sizing: border-box;text-align: center;}#sk-container-id-1 label.sk-toggleable__label-arrow:before {content: \"▸\";float: left;margin-right: 0.25em;color: #696969;}#sk-container-id-1 label.sk-toggleable__label-arrow:hover:before {color: black;}#sk-container-id-1 div.sk-estimator:hover label.sk-toggleable__label-arrow:before {color: black;}#sk-container-id-1 div.sk-toggleable__content {max-height: 0;max-width: 0;overflow: hidden;text-align: left;background-color: #f0f8ff;}#sk-container-id-1 div.sk-toggleable__content pre {margin: 0.2em;color: black;border-radius: 0.25em;background-color: #f0f8ff;}#sk-container-id-1 input.sk-toggleable__control:checked~div.sk-toggleable__content {max-height: 200px;max-width: 100%;overflow: auto;}#sk-container-id-1 input.sk-toggleable__control:checked~label.sk-toggleable__label-arrow:before {content: \"▾\";}#sk-container-id-1 div.sk-estimator input.sk-toggleable__control:checked~label.sk-toggleable__label {background-color: #d4ebff;}#sk-container-id-1 div.sk-label input.sk-toggleable__control:checked~label.sk-toggleable__label {background-color: #d4ebff;}#sk-container-id-1 input.sk-hidden--visually {border: 0;clip: rect(1px 1px 1px 1px);clip: rect(1px, 1px, 1px, 1px);height: 1px;margin: -1px;overflow: hidden;padding: 0;position: absolute;width: 1px;}#sk-container-id-1 div.sk-estimator {font-family: monospace;background-color: #f0f8ff;border: 1px dotted black;border-radius: 0.25em;box-sizing: border-box;margin-bottom: 0.5em;}#sk-container-id-1 div.sk-estimator:hover {background-color: #d4ebff;}#sk-container-id-1 div.sk-parallel-item::after {content: \"\";width: 100%;border-bottom: 1px solid gray;flex-grow: 1;}#sk-container-id-1 div.sk-label:hover label.sk-toggleable__label {background-color: #d4ebff;}#sk-container-id-1 div.sk-serial::before {content: \"\";position: absolute;border-left: 1px solid gray;box-sizing: border-box;top: 0;bottom: 0;left: 50%;z-index: 0;}#sk-container-id-1 div.sk-serial {display: flex;flex-direction: column;align-items: center;background-color: white;padding-right: 0.2em;padding-left: 0.2em;position: relative;}#sk-container-id-1 div.sk-item {position: relative;z-index: 1;}#sk-container-id-1 div.sk-parallel {display: flex;align-items: stretch;justify-content: center;background-color: white;position: relative;}#sk-container-id-1 div.sk-item::before, #sk-container-id-1 div.sk-parallel-item::before {content: \"\";position: absolute;border-left: 1px solid gray;box-sizing: border-box;top: 0;bottom: 0;left: 50%;z-index: -1;}#sk-container-id-1 div.sk-parallel-item {display: flex;flex-direction: column;z-index: 1;position: relative;background-color: white;}#sk-container-id-1 div.sk-parallel-item:first-child::after {align-self: flex-end;width: 50%;}#sk-container-id-1 div.sk-parallel-item:last-child::after {align-self: flex-start;width: 50%;}#sk-container-id-1 div.sk-parallel-item:only-child::after {width: 0;}#sk-container-id-1 div.sk-dashed-wrapped {border: 1px dashed gray;margin: 0 0.4em 0.5em 0.4em;box-sizing: border-box;padding-bottom: 0.4em;background-color: white;}#sk-container-id-1 div.sk-label label {font-family: monospace;font-weight: bold;display: inline-block;line-height: 1.2em;}#sk-container-id-1 div.sk-label-container {text-align: center;}#sk-container-id-1 div.sk-container {/* jupyter's `normalize.less` sets `[hidden] { display: none; }` but bootstrap.min.css set `[hidden] { display: none !important; }` so we also need the `!important` here to be able to override the default hidden behavior on the sphinx rendered scikit-learn.org. See: https://github.com/scikit-learn/scikit-learn/issues/21755 */display: inline-block !important;position: relative;}#sk-container-id-1 div.sk-text-repr-fallback {display: none;}</style><div id=\"sk-container-id-1\" class=\"sk-top-container\"><div class=\"sk-text-repr-fallback\"><pre>Pipeline(steps=[(&#x27;tfidfvectorizer&#x27;, TfidfVectorizer(max_features=44981)),\n",
       "                (&#x27;logisticregression&#x27;,\n",
       "                 LogisticRegression(C=0.5, class_weight=&#x27;balanced&#x27;,\n",
       "                                    max_iter=250, random_state=1234))])</pre><b>In a Jupyter environment, please rerun this cell to show the HTML representation or trust the notebook. <br />On GitHub, the HTML representation is unable to render, please try loading this page with nbviewer.org.</b></div><div class=\"sk-container\" hidden><div class=\"sk-item sk-dashed-wrapped\"><div class=\"sk-label-container\"><div class=\"sk-label sk-toggleable\"><input class=\"sk-toggleable__control sk-hidden--visually\" id=\"sk-estimator-id-1\" type=\"checkbox\" ><label for=\"sk-estimator-id-1\" class=\"sk-toggleable__label sk-toggleable__label-arrow\">Pipeline</label><div class=\"sk-toggleable__content\"><pre>Pipeline(steps=[(&#x27;tfidfvectorizer&#x27;, TfidfVectorizer(max_features=44981)),\n",
       "                (&#x27;logisticregression&#x27;,\n",
       "                 LogisticRegression(C=0.5, class_weight=&#x27;balanced&#x27;,\n",
       "                                    max_iter=250, random_state=1234))])</pre></div></div></div><div class=\"sk-serial\"><div class=\"sk-item\"><div class=\"sk-estimator sk-toggleable\"><input class=\"sk-toggleable__control sk-hidden--visually\" id=\"sk-estimator-id-2\" type=\"checkbox\" ><label for=\"sk-estimator-id-2\" class=\"sk-toggleable__label sk-toggleable__label-arrow\">TfidfVectorizer</label><div class=\"sk-toggleable__content\"><pre>TfidfVectorizer(max_features=44981)</pre></div></div></div><div class=\"sk-item\"><div class=\"sk-estimator sk-toggleable\"><input class=\"sk-toggleable__control sk-hidden--visually\" id=\"sk-estimator-id-3\" type=\"checkbox\" ><label for=\"sk-estimator-id-3\" class=\"sk-toggleable__label sk-toggleable__label-arrow\">LogisticRegression</label><div class=\"sk-toggleable__content\"><pre>LogisticRegression(C=0.5, class_weight=&#x27;balanced&#x27;, max_iter=250,\n",
       "                   random_state=1234)</pre></div></div></div></div></div></div></div>"
      ],
      "text/plain": [
       "Pipeline(steps=[('tfidfvectorizer', TfidfVectorizer(max_features=44981)),\n",
       "                ('logisticregression',\n",
       "                 LogisticRegression(C=0.5, class_weight='balanced',\n",
       "                                    max_iter=250, random_state=1234))])"
      ]
     },
     "execution_count": 23,
     "metadata": {},
     "output_type": "execute_result"
    }
   ],
   "source": [
    "pl.fit(sst[\"text\"], sst[\"label\"])"
   ]
  },
  {
   "cell_type": "code",
   "execution_count": 24,
   "id": "4f1eae0d-fa19-47e3-90f2-2106a54f2480",
   "metadata": {},
   "outputs": [
    {
     "data": {
      "text/plain": [
       "0.9602884142677665"
      ]
     },
     "execution_count": 24,
     "metadata": {},
     "output_type": "execute_result"
    }
   ],
   "source": [
    "pl.score(sst[\"text\"], sst[\"label\"])"
   ]
  },
  {
   "cell_type": "code",
   "execution_count": 25,
   "id": "491596a7-b4fc-45d6-82b5-0b0d6cf9aea9",
   "metadata": {},
   "outputs": [
    {
     "data": {
      "text/plain": [
       "{'fit_time': array([2.3770647 , 2.00842834, 1.84988928, 2.10419416, 2.28302693]),\n",
       " 'score_time': array([0.37796617, 0.37185931, 0.3821404 , 0.39968681, 0.36025047]),\n",
       " 'test_f1': array([0.85612536, 0.85449358, 0.85488506, 0.86757337, 0.86085076]),\n",
       " 'test_accuracy': array([0.94483889, 0.94429274, 0.94482382, 0.94946736, 0.94728216])}"
      ]
     },
     "execution_count": 25,
     "metadata": {},
     "output_type": "execute_result"
    }
   ],
   "source": [
    "cv = StratifiedKFold(n_splits=SPLITS)\n",
    "cross_validate(pl, sst[\"text\"], sst[\"label\"], cv=cv, scoring={\"accuracy\", \"f1\"})"
   ]
  },
  {
   "cell_type": "code",
   "execution_count": 26,
   "id": "7dbf65ac-09ae-43ce-b65a-c14b7ab32d9d",
   "metadata": {},
   "outputs": [
    {
     "name": "stderr",
     "output_type": "stream",
     "text": [
      "/home/studio-lab-user/.conda/envs/default/lib/python3.9/site-packages/sklearn/semi_supervised/_self_training.py:212: UserWarning: y contains no unlabeled samples\n",
      "  warnings.warn(\"y contains no unlabeled samples\", UserWarning)\n",
      "/home/studio-lab-user/.conda/envs/default/lib/python3.9/site-packages/sklearn/semi_supervised/_self_training.py:212: UserWarning: y contains no unlabeled samples\n",
      "  warnings.warn(\"y contains no unlabeled samples\", UserWarning)\n",
      "/home/studio-lab-user/.conda/envs/default/lib/python3.9/site-packages/sklearn/semi_supervised/_self_training.py:212: UserWarning: y contains no unlabeled samples\n",
      "  warnings.warn(\"y contains no unlabeled samples\", UserWarning)\n",
      "/home/studio-lab-user/.conda/envs/default/lib/python3.9/site-packages/sklearn/semi_supervised/_self_training.py:212: UserWarning: y contains no unlabeled samples\n",
      "  warnings.warn(\"y contains no unlabeled samples\", UserWarning)\n",
      "/home/studio-lab-user/.conda/envs/default/lib/python3.9/site-packages/sklearn/semi_supervised/_self_training.py:212: UserWarning: y contains no unlabeled samples\n",
      "  warnings.warn(\"y contains no unlabeled samples\", UserWarning)\n"
     ]
    },
    {
     "name": "stdout",
     "output_type": "stream",
     "text": [
      "Execution time: 6.027 minutes\n"
     ]
    }
   ],
   "source": [
    "acc_scores = []\n",
    "f1_scores = []\n",
    "fold = []\n",
    "lab_perc = []\n",
    "i_range = [0.1, 0.2, 0.3, 0.4, 0.5, 0.6, 0.7, 0.8, 0.9, 1.0]\n",
    "t0  = time.time()\n",
    "for i in i_range:\n",
    "    sst[\"ss_label\"] = np.where(sst.index.isin(sst.sample(frac=1-i).index), -1, sst.label)\n",
    "    ss_pl = make_pipeline(TfidfVectorizer(max_features=int(DICT_SIZE * 0.9), lowercase=True, ngram_range=(1,1), analyzer=\"word\"),\n",
    "                          SelfTrainingClassifier(\n",
    "                          LogisticRegression(C=0.5, class_weight=\"balanced\", random_state=RANDOM_SEED, max_iter=250)))\n",
    "    \n",
    "    for f, (train, test), in zip(range(SPLITS), cv.split(sst[\"text\"], sst[\"label\"])):\n",
    "        ss_pl.fit(sst[\"text\"][train], sst[\"ss_label\"][train])\n",
    "        ss_pl_preds = ss_pl.predict(sst[\"text\"][test])\n",
    "        acc_scores.append(accuracy_score(sst[\"label\"][test], ss_pl_preds))\n",
    "        f1_scores.append(f1_score(sst[\"label\"][test], ss_pl_preds))\n",
    "        fold.append(f)\n",
    "        lab_perc.append(i)\n",
    "\n",
    "t1 = time.time()\n",
    "exec_time = t1-t0\n",
    "print(f\"Execution time: {exec_time/60:.3f} minutes\")"
   ]
  },
  {
   "cell_type": "code",
   "execution_count": 27,
   "id": "b08af12a-ffef-4cd5-adbf-7e234a666a92",
   "metadata": {},
   "outputs": [],
   "source": [
    "dataset_report = pd.DataFrame({\"acc_scores\": acc_scores,\n",
    "                               \"f1_scores\": f1_scores,\n",
    "                               \"fold_number\": fold,\n",
    "                               \"dataset_name\": [\"trip_ad_hotel_rev_bin_Train\"] * len(acc_scores),\n",
    "                               \"classes\": [sst[\"label\"].nunique()] * len(acc_scores),\n",
    "                               \"dataset_len\": [sst.shape[0]] * len(acc_scores),\n",
    "                               \"percent_labeled_samples\": lab_perc,\n",
    "                                \"exec_time_secs_9_runs\": [exec_time] * len(acc_scores)})"
   ]
  },
  {
   "cell_type": "code",
   "execution_count": 28,
   "id": "52c49972-ecc8-4fac-bc02-84a7d9ec03b0",
   "metadata": {
    "scrolled": true,
    "tags": []
   },
   "outputs": [
    {
     "data": {
      "text/html": [
       "<div>\n",
       "<style scoped>\n",
       "    .dataframe tbody tr th:only-of-type {\n",
       "        vertical-align: middle;\n",
       "    }\n",
       "\n",
       "    .dataframe tbody tr th {\n",
       "        vertical-align: top;\n",
       "    }\n",
       "\n",
       "    .dataframe thead th {\n",
       "        text-align: right;\n",
       "    }\n",
       "</style>\n",
       "<table border=\"1\" class=\"dataframe\">\n",
       "  <thead>\n",
       "    <tr style=\"text-align: right;\">\n",
       "      <th></th>\n",
       "      <th>acc_scores</th>\n",
       "      <th>f1_scores</th>\n",
       "      <th>fold_number</th>\n",
       "      <th>dataset_name</th>\n",
       "      <th>classes</th>\n",
       "      <th>dataset_len</th>\n",
       "      <th>percent_labeled_samples</th>\n",
       "      <th>exec_time_secs_9_runs</th>\n",
       "    </tr>\n",
       "  </thead>\n",
       "  <tbody>\n",
       "    <tr>\n",
       "      <th>0</th>\n",
       "      <td>0.845713</td>\n",
       "      <td>0.658610</td>\n",
       "      <td>0</td>\n",
       "      <td>trip_ad_hotel_rev_bin_Train</td>\n",
       "      <td>2</td>\n",
       "      <td>18307</td>\n",
       "      <td>0.1</td>\n",
       "      <td>361.61208</td>\n",
       "    </tr>\n",
       "    <tr>\n",
       "      <th>1</th>\n",
       "      <td>0.865920</td>\n",
       "      <td>0.692549</td>\n",
       "      <td>1</td>\n",
       "      <td>trip_ad_hotel_rev_bin_Train</td>\n",
       "      <td>2</td>\n",
       "      <td>18307</td>\n",
       "      <td>0.1</td>\n",
       "      <td>361.61208</td>\n",
       "    </tr>\n",
       "    <tr>\n",
       "      <th>2</th>\n",
       "      <td>0.857416</td>\n",
       "      <td>0.674969</td>\n",
       "      <td>2</td>\n",
       "      <td>trip_ad_hotel_rev_bin_Train</td>\n",
       "      <td>2</td>\n",
       "      <td>18307</td>\n",
       "      <td>0.1</td>\n",
       "      <td>361.61208</td>\n",
       "    </tr>\n",
       "    <tr>\n",
       "      <th>3</th>\n",
       "      <td>0.876263</td>\n",
       "      <td>0.715273</td>\n",
       "      <td>3</td>\n",
       "      <td>trip_ad_hotel_rev_bin_Train</td>\n",
       "      <td>2</td>\n",
       "      <td>18307</td>\n",
       "      <td>0.1</td>\n",
       "      <td>361.61208</td>\n",
       "    </tr>\n",
       "    <tr>\n",
       "      <th>4</th>\n",
       "      <td>0.877083</td>\n",
       "      <td>0.713740</td>\n",
       "      <td>4</td>\n",
       "      <td>trip_ad_hotel_rev_bin_Train</td>\n",
       "      <td>2</td>\n",
       "      <td>18307</td>\n",
       "      <td>0.1</td>\n",
       "      <td>361.61208</td>\n",
       "    </tr>\n",
       "    <tr>\n",
       "      <th>5</th>\n",
       "      <td>0.907428</td>\n",
       "      <td>0.775050</td>\n",
       "      <td>0</td>\n",
       "      <td>trip_ad_hotel_rev_bin_Train</td>\n",
       "      <td>2</td>\n",
       "      <td>18307</td>\n",
       "      <td>0.2</td>\n",
       "      <td>361.61208</td>\n",
       "    </tr>\n",
       "    <tr>\n",
       "      <th>6</th>\n",
       "      <td>0.905243</td>\n",
       "      <td>0.768821</td>\n",
       "      <td>1</td>\n",
       "      <td>trip_ad_hotel_rev_bin_Train</td>\n",
       "      <td>2</td>\n",
       "      <td>18307</td>\n",
       "      <td>0.2</td>\n",
       "      <td>361.61208</td>\n",
       "    </tr>\n",
       "    <tr>\n",
       "      <th>7</th>\n",
       "      <td>0.901393</td>\n",
       "      <td>0.758851</td>\n",
       "      <td>2</td>\n",
       "      <td>trip_ad_hotel_rev_bin_Train</td>\n",
       "      <td>2</td>\n",
       "      <td>18307</td>\n",
       "      <td>0.2</td>\n",
       "      <td>361.61208</td>\n",
       "    </tr>\n",
       "    <tr>\n",
       "      <th>8</th>\n",
       "      <td>0.911500</td>\n",
       "      <td>0.784000</td>\n",
       "      <td>3</td>\n",
       "      <td>trip_ad_hotel_rev_bin_Train</td>\n",
       "      <td>2</td>\n",
       "      <td>18307</td>\n",
       "      <td>0.2</td>\n",
       "      <td>361.61208</td>\n",
       "    </tr>\n",
       "    <tr>\n",
       "      <th>9</th>\n",
       "      <td>0.912046</td>\n",
       "      <td>0.783602</td>\n",
       "      <td>4</td>\n",
       "      <td>trip_ad_hotel_rev_bin_Train</td>\n",
       "      <td>2</td>\n",
       "      <td>18307</td>\n",
       "      <td>0.2</td>\n",
       "      <td>361.61208</td>\n",
       "    </tr>\n",
       "    <tr>\n",
       "      <th>10</th>\n",
       "      <td>0.927908</td>\n",
       "      <td>0.817931</td>\n",
       "      <td>0</td>\n",
       "      <td>trip_ad_hotel_rev_bin_Train</td>\n",
       "      <td>2</td>\n",
       "      <td>18307</td>\n",
       "      <td>0.3</td>\n",
       "      <td>361.61208</td>\n",
       "    </tr>\n",
       "    <tr>\n",
       "      <th>11</th>\n",
       "      <td>0.922993</td>\n",
       "      <td>0.805249</td>\n",
       "      <td>1</td>\n",
       "      <td>trip_ad_hotel_rev_bin_Train</td>\n",
       "      <td>2</td>\n",
       "      <td>18307</td>\n",
       "      <td>0.3</td>\n",
       "      <td>361.61208</td>\n",
       "    </tr>\n",
       "    <tr>\n",
       "      <th>12</th>\n",
       "      <td>0.926250</td>\n",
       "      <td>0.810659</td>\n",
       "      <td>2</td>\n",
       "      <td>trip_ad_hotel_rev_bin_Train</td>\n",
       "      <td>2</td>\n",
       "      <td>18307</td>\n",
       "      <td>0.3</td>\n",
       "      <td>361.61208</td>\n",
       "    </tr>\n",
       "    <tr>\n",
       "      <th>13</th>\n",
       "      <td>0.926523</td>\n",
       "      <td>0.814355</td>\n",
       "      <td>3</td>\n",
       "      <td>trip_ad_hotel_rev_bin_Train</td>\n",
       "      <td>2</td>\n",
       "      <td>18307</td>\n",
       "      <td>0.3</td>\n",
       "      <td>361.61208</td>\n",
       "    </tr>\n",
       "    <tr>\n",
       "      <th>14</th>\n",
       "      <td>0.933625</td>\n",
       "      <td>0.828269</td>\n",
       "      <td>4</td>\n",
       "      <td>trip_ad_hotel_rev_bin_Train</td>\n",
       "      <td>2</td>\n",
       "      <td>18307</td>\n",
       "      <td>0.3</td>\n",
       "      <td>361.61208</td>\n",
       "    </tr>\n",
       "    <tr>\n",
       "      <th>15</th>\n",
       "      <td>0.933916</td>\n",
       "      <td>0.830056</td>\n",
       "      <td>0</td>\n",
       "      <td>trip_ad_hotel_rev_bin_Train</td>\n",
       "      <td>2</td>\n",
       "      <td>18307</td>\n",
       "      <td>0.4</td>\n",
       "      <td>361.61208</td>\n",
       "    </tr>\n",
       "    <tr>\n",
       "      <th>16</th>\n",
       "      <td>0.930366</td>\n",
       "      <td>0.822547</td>\n",
       "      <td>1</td>\n",
       "      <td>trip_ad_hotel_rev_bin_Train</td>\n",
       "      <td>2</td>\n",
       "      <td>18307</td>\n",
       "      <td>0.4</td>\n",
       "      <td>361.61208</td>\n",
       "    </tr>\n",
       "    <tr>\n",
       "      <th>17</th>\n",
       "      <td>0.933078</td>\n",
       "      <td>0.827100</td>\n",
       "      <td>2</td>\n",
       "      <td>trip_ad_hotel_rev_bin_Train</td>\n",
       "      <td>2</td>\n",
       "      <td>18307</td>\n",
       "      <td>0.4</td>\n",
       "      <td>361.61208</td>\n",
       "    </tr>\n",
       "    <tr>\n",
       "      <th>18</th>\n",
       "      <td>0.936083</td>\n",
       "      <td>0.836592</td>\n",
       "      <td>3</td>\n",
       "      <td>trip_ad_hotel_rev_bin_Train</td>\n",
       "      <td>2</td>\n",
       "      <td>18307</td>\n",
       "      <td>0.4</td>\n",
       "      <td>361.61208</td>\n",
       "    </tr>\n",
       "    <tr>\n",
       "      <th>19</th>\n",
       "      <td>0.939907</td>\n",
       "      <td>0.843305</td>\n",
       "      <td>4</td>\n",
       "      <td>trip_ad_hotel_rev_bin_Train</td>\n",
       "      <td>2</td>\n",
       "      <td>18307</td>\n",
       "      <td>0.4</td>\n",
       "      <td>361.61208</td>\n",
       "    </tr>\n",
       "    <tr>\n",
       "      <th>20</th>\n",
       "      <td>0.941562</td>\n",
       "      <td>0.846485</td>\n",
       "      <td>0</td>\n",
       "      <td>trip_ad_hotel_rev_bin_Train</td>\n",
       "      <td>2</td>\n",
       "      <td>18307</td>\n",
       "      <td>0.5</td>\n",
       "      <td>361.61208</td>\n",
       "    </tr>\n",
       "    <tr>\n",
       "      <th>21</th>\n",
       "      <td>0.937739</td>\n",
       "      <td>0.838983</td>\n",
       "      <td>1</td>\n",
       "      <td>trip_ad_hotel_rev_bin_Train</td>\n",
       "      <td>2</td>\n",
       "      <td>18307</td>\n",
       "      <td>0.5</td>\n",
       "      <td>361.61208</td>\n",
       "    </tr>\n",
       "    <tr>\n",
       "      <th>22</th>\n",
       "      <td>0.935264</td>\n",
       "      <td>0.832509</td>\n",
       "      <td>2</td>\n",
       "      <td>trip_ad_hotel_rev_bin_Train</td>\n",
       "      <td>2</td>\n",
       "      <td>18307</td>\n",
       "      <td>0.5</td>\n",
       "      <td>361.61208</td>\n",
       "    </tr>\n",
       "    <tr>\n",
       "      <th>23</th>\n",
       "      <td>0.938815</td>\n",
       "      <td>0.842031</td>\n",
       "      <td>3</td>\n",
       "      <td>trip_ad_hotel_rev_bin_Train</td>\n",
       "      <td>2</td>\n",
       "      <td>18307</td>\n",
       "      <td>0.5</td>\n",
       "      <td>361.61208</td>\n",
       "    </tr>\n",
       "    <tr>\n",
       "      <th>24</th>\n",
       "      <td>0.939634</td>\n",
       "      <td>0.842030</td>\n",
       "      <td>4</td>\n",
       "      <td>trip_ad_hotel_rev_bin_Train</td>\n",
       "      <td>2</td>\n",
       "      <td>18307</td>\n",
       "      <td>0.5</td>\n",
       "      <td>361.61208</td>\n",
       "    </tr>\n",
       "    <tr>\n",
       "      <th>25</th>\n",
       "      <td>0.938285</td>\n",
       "      <td>0.839716</td>\n",
       "      <td>0</td>\n",
       "      <td>trip_ad_hotel_rev_bin_Train</td>\n",
       "      <td>2</td>\n",
       "      <td>18307</td>\n",
       "      <td>0.6</td>\n",
       "      <td>361.61208</td>\n",
       "    </tr>\n",
       "    <tr>\n",
       "      <th>26</th>\n",
       "      <td>0.937739</td>\n",
       "      <td>0.839662</td>\n",
       "      <td>1</td>\n",
       "      <td>trip_ad_hotel_rev_bin_Train</td>\n",
       "      <td>2</td>\n",
       "      <td>18307</td>\n",
       "      <td>0.6</td>\n",
       "      <td>361.61208</td>\n",
       "    </tr>\n",
       "    <tr>\n",
       "      <th>27</th>\n",
       "      <td>0.937449</td>\n",
       "      <td>0.837704</td>\n",
       "      <td>2</td>\n",
       "      <td>trip_ad_hotel_rev_bin_Train</td>\n",
       "      <td>2</td>\n",
       "      <td>18307</td>\n",
       "      <td>0.6</td>\n",
       "      <td>361.61208</td>\n",
       "    </tr>\n",
       "    <tr>\n",
       "      <th>28</th>\n",
       "      <td>0.943731</td>\n",
       "      <td>0.854314</td>\n",
       "      <td>3</td>\n",
       "      <td>trip_ad_hotel_rev_bin_Train</td>\n",
       "      <td>2</td>\n",
       "      <td>18307</td>\n",
       "      <td>0.6</td>\n",
       "      <td>361.61208</td>\n",
       "    </tr>\n",
       "    <tr>\n",
       "      <th>29</th>\n",
       "      <td>0.942912</td>\n",
       "      <td>0.849748</td>\n",
       "      <td>4</td>\n",
       "      <td>trip_ad_hotel_rev_bin_Train</td>\n",
       "      <td>2</td>\n",
       "      <td>18307</td>\n",
       "      <td>0.6</td>\n",
       "      <td>361.61208</td>\n",
       "    </tr>\n",
       "    <tr>\n",
       "      <th>30</th>\n",
       "      <td>0.941835</td>\n",
       "      <td>0.849470</td>\n",
       "      <td>0</td>\n",
       "      <td>trip_ad_hotel_rev_bin_Train</td>\n",
       "      <td>2</td>\n",
       "      <td>18307</td>\n",
       "      <td>0.7</td>\n",
       "      <td>361.61208</td>\n",
       "    </tr>\n",
       "    <tr>\n",
       "      <th>31</th>\n",
       "      <td>0.936920</td>\n",
       "      <td>0.836749</td>\n",
       "      <td>1</td>\n",
       "      <td>trip_ad_hotel_rev_bin_Train</td>\n",
       "      <td>2</td>\n",
       "      <td>18307</td>\n",
       "      <td>0.7</td>\n",
       "      <td>361.61208</td>\n",
       "    </tr>\n",
       "    <tr>\n",
       "      <th>32</th>\n",
       "      <td>0.938268</td>\n",
       "      <td>0.839943</td>\n",
       "      <td>2</td>\n",
       "      <td>trip_ad_hotel_rev_bin_Train</td>\n",
       "      <td>2</td>\n",
       "      <td>18307</td>\n",
       "      <td>0.7</td>\n",
       "      <td>361.61208</td>\n",
       "    </tr>\n",
       "    <tr>\n",
       "      <th>33</th>\n",
       "      <td>0.942639</td>\n",
       "      <td>0.851275</td>\n",
       "      <td>3</td>\n",
       "      <td>trip_ad_hotel_rev_bin_Train</td>\n",
       "      <td>2</td>\n",
       "      <td>18307</td>\n",
       "      <td>0.7</td>\n",
       "      <td>361.61208</td>\n",
       "    </tr>\n",
       "    <tr>\n",
       "      <th>34</th>\n",
       "      <td>0.944278</td>\n",
       "      <td>0.853659</td>\n",
       "      <td>4</td>\n",
       "      <td>trip_ad_hotel_rev_bin_Train</td>\n",
       "      <td>2</td>\n",
       "      <td>18307</td>\n",
       "      <td>0.7</td>\n",
       "      <td>361.61208</td>\n",
       "    </tr>\n",
       "    <tr>\n",
       "      <th>35</th>\n",
       "      <td>0.944293</td>\n",
       "      <td>0.854494</td>\n",
       "      <td>0</td>\n",
       "      <td>trip_ad_hotel_rev_bin_Train</td>\n",
       "      <td>2</td>\n",
       "      <td>18307</td>\n",
       "      <td>0.8</td>\n",
       "      <td>361.61208</td>\n",
       "    </tr>\n",
       "    <tr>\n",
       "      <th>36</th>\n",
       "      <td>0.940470</td>\n",
       "      <td>0.844508</td>\n",
       "      <td>1</td>\n",
       "      <td>trip_ad_hotel_rev_bin_Train</td>\n",
       "      <td>2</td>\n",
       "      <td>18307</td>\n",
       "      <td>0.8</td>\n",
       "      <td>361.61208</td>\n",
       "    </tr>\n",
       "    <tr>\n",
       "      <th>37</th>\n",
       "      <td>0.940180</td>\n",
       "      <td>0.843683</td>\n",
       "      <td>2</td>\n",
       "      <td>trip_ad_hotel_rev_bin_Train</td>\n",
       "      <td>2</td>\n",
       "      <td>18307</td>\n",
       "      <td>0.8</td>\n",
       "      <td>361.61208</td>\n",
       "    </tr>\n",
       "    <tr>\n",
       "      <th>38</th>\n",
       "      <td>0.946190</td>\n",
       "      <td>0.859587</td>\n",
       "      <td>3</td>\n",
       "      <td>trip_ad_hotel_rev_bin_Train</td>\n",
       "      <td>2</td>\n",
       "      <td>18307</td>\n",
       "      <td>0.8</td>\n",
       "      <td>361.61208</td>\n",
       "    </tr>\n",
       "    <tr>\n",
       "      <th>39</th>\n",
       "      <td>0.946736</td>\n",
       "      <td>0.859206</td>\n",
       "      <td>4</td>\n",
       "      <td>trip_ad_hotel_rev_bin_Train</td>\n",
       "      <td>2</td>\n",
       "      <td>18307</td>\n",
       "      <td>0.8</td>\n",
       "      <td>361.61208</td>\n",
       "    </tr>\n",
       "    <tr>\n",
       "      <th>40</th>\n",
       "      <td>0.942654</td>\n",
       "      <td>0.851064</td>\n",
       "      <td>0</td>\n",
       "      <td>trip_ad_hotel_rev_bin_Train</td>\n",
       "      <td>2</td>\n",
       "      <td>18307</td>\n",
       "      <td>0.9</td>\n",
       "      <td>361.61208</td>\n",
       "    </tr>\n",
       "    <tr>\n",
       "      <th>41</th>\n",
       "      <td>0.942654</td>\n",
       "      <td>0.851064</td>\n",
       "      <td>1</td>\n",
       "      <td>trip_ad_hotel_rev_bin_Train</td>\n",
       "      <td>2</td>\n",
       "      <td>18307</td>\n",
       "      <td>0.9</td>\n",
       "      <td>361.61208</td>\n",
       "    </tr>\n",
       "    <tr>\n",
       "      <th>42</th>\n",
       "      <td>0.942365</td>\n",
       "      <td>0.848962</td>\n",
       "      <td>2</td>\n",
       "      <td>trip_ad_hotel_rev_bin_Train</td>\n",
       "      <td>2</td>\n",
       "      <td>18307</td>\n",
       "      <td>0.9</td>\n",
       "      <td>361.61208</td>\n",
       "    </tr>\n",
       "    <tr>\n",
       "      <th>43</th>\n",
       "      <td>0.945643</td>\n",
       "      <td>0.858161</td>\n",
       "      <td>3</td>\n",
       "      <td>trip_ad_hotel_rev_bin_Train</td>\n",
       "      <td>2</td>\n",
       "      <td>18307</td>\n",
       "      <td>0.9</td>\n",
       "      <td>361.61208</td>\n",
       "    </tr>\n",
       "    <tr>\n",
       "      <th>44</th>\n",
       "      <td>0.948102</td>\n",
       "      <td>0.863309</td>\n",
       "      <td>4</td>\n",
       "      <td>trip_ad_hotel_rev_bin_Train</td>\n",
       "      <td>2</td>\n",
       "      <td>18307</td>\n",
       "      <td>0.9</td>\n",
       "      <td>361.61208</td>\n",
       "    </tr>\n",
       "    <tr>\n",
       "      <th>45</th>\n",
       "      <td>0.944839</td>\n",
       "      <td>0.856125</td>\n",
       "      <td>0</td>\n",
       "      <td>trip_ad_hotel_rev_bin_Train</td>\n",
       "      <td>2</td>\n",
       "      <td>18307</td>\n",
       "      <td>1.0</td>\n",
       "      <td>361.61208</td>\n",
       "    </tr>\n",
       "    <tr>\n",
       "      <th>46</th>\n",
       "      <td>0.944293</td>\n",
       "      <td>0.854494</td>\n",
       "      <td>1</td>\n",
       "      <td>trip_ad_hotel_rev_bin_Train</td>\n",
       "      <td>2</td>\n",
       "      <td>18307</td>\n",
       "      <td>1.0</td>\n",
       "      <td>361.61208</td>\n",
       "    </tr>\n",
       "    <tr>\n",
       "      <th>47</th>\n",
       "      <td>0.944824</td>\n",
       "      <td>0.854885</td>\n",
       "      <td>2</td>\n",
       "      <td>trip_ad_hotel_rev_bin_Train</td>\n",
       "      <td>2</td>\n",
       "      <td>18307</td>\n",
       "      <td>1.0</td>\n",
       "      <td>361.61208</td>\n",
       "    </tr>\n",
       "    <tr>\n",
       "      <th>48</th>\n",
       "      <td>0.949467</td>\n",
       "      <td>0.867573</td>\n",
       "      <td>3</td>\n",
       "      <td>trip_ad_hotel_rev_bin_Train</td>\n",
       "      <td>2</td>\n",
       "      <td>18307</td>\n",
       "      <td>1.0</td>\n",
       "      <td>361.61208</td>\n",
       "    </tr>\n",
       "    <tr>\n",
       "      <th>49</th>\n",
       "      <td>0.947282</td>\n",
       "      <td>0.860851</td>\n",
       "      <td>4</td>\n",
       "      <td>trip_ad_hotel_rev_bin_Train</td>\n",
       "      <td>2</td>\n",
       "      <td>18307</td>\n",
       "      <td>1.0</td>\n",
       "      <td>361.61208</td>\n",
       "    </tr>\n",
       "  </tbody>\n",
       "</table>\n",
       "</div>"
      ],
      "text/plain": [
       "    acc_scores  f1_scores  fold_number                 dataset_name  classes  \\\n",
       "0     0.845713   0.658610            0  trip_ad_hotel_rev_bin_Train        2   \n",
       "1     0.865920   0.692549            1  trip_ad_hotel_rev_bin_Train        2   \n",
       "2     0.857416   0.674969            2  trip_ad_hotel_rev_bin_Train        2   \n",
       "3     0.876263   0.715273            3  trip_ad_hotel_rev_bin_Train        2   \n",
       "4     0.877083   0.713740            4  trip_ad_hotel_rev_bin_Train        2   \n",
       "5     0.907428   0.775050            0  trip_ad_hotel_rev_bin_Train        2   \n",
       "6     0.905243   0.768821            1  trip_ad_hotel_rev_bin_Train        2   \n",
       "7     0.901393   0.758851            2  trip_ad_hotel_rev_bin_Train        2   \n",
       "8     0.911500   0.784000            3  trip_ad_hotel_rev_bin_Train        2   \n",
       "9     0.912046   0.783602            4  trip_ad_hotel_rev_bin_Train        2   \n",
       "10    0.927908   0.817931            0  trip_ad_hotel_rev_bin_Train        2   \n",
       "11    0.922993   0.805249            1  trip_ad_hotel_rev_bin_Train        2   \n",
       "12    0.926250   0.810659            2  trip_ad_hotel_rev_bin_Train        2   \n",
       "13    0.926523   0.814355            3  trip_ad_hotel_rev_bin_Train        2   \n",
       "14    0.933625   0.828269            4  trip_ad_hotel_rev_bin_Train        2   \n",
       "15    0.933916   0.830056            0  trip_ad_hotel_rev_bin_Train        2   \n",
       "16    0.930366   0.822547            1  trip_ad_hotel_rev_bin_Train        2   \n",
       "17    0.933078   0.827100            2  trip_ad_hotel_rev_bin_Train        2   \n",
       "18    0.936083   0.836592            3  trip_ad_hotel_rev_bin_Train        2   \n",
       "19    0.939907   0.843305            4  trip_ad_hotel_rev_bin_Train        2   \n",
       "20    0.941562   0.846485            0  trip_ad_hotel_rev_bin_Train        2   \n",
       "21    0.937739   0.838983            1  trip_ad_hotel_rev_bin_Train        2   \n",
       "22    0.935264   0.832509            2  trip_ad_hotel_rev_bin_Train        2   \n",
       "23    0.938815   0.842031            3  trip_ad_hotel_rev_bin_Train        2   \n",
       "24    0.939634   0.842030            4  trip_ad_hotel_rev_bin_Train        2   \n",
       "25    0.938285   0.839716            0  trip_ad_hotel_rev_bin_Train        2   \n",
       "26    0.937739   0.839662            1  trip_ad_hotel_rev_bin_Train        2   \n",
       "27    0.937449   0.837704            2  trip_ad_hotel_rev_bin_Train        2   \n",
       "28    0.943731   0.854314            3  trip_ad_hotel_rev_bin_Train        2   \n",
       "29    0.942912   0.849748            4  trip_ad_hotel_rev_bin_Train        2   \n",
       "30    0.941835   0.849470            0  trip_ad_hotel_rev_bin_Train        2   \n",
       "31    0.936920   0.836749            1  trip_ad_hotel_rev_bin_Train        2   \n",
       "32    0.938268   0.839943            2  trip_ad_hotel_rev_bin_Train        2   \n",
       "33    0.942639   0.851275            3  trip_ad_hotel_rev_bin_Train        2   \n",
       "34    0.944278   0.853659            4  trip_ad_hotel_rev_bin_Train        2   \n",
       "35    0.944293   0.854494            0  trip_ad_hotel_rev_bin_Train        2   \n",
       "36    0.940470   0.844508            1  trip_ad_hotel_rev_bin_Train        2   \n",
       "37    0.940180   0.843683            2  trip_ad_hotel_rev_bin_Train        2   \n",
       "38    0.946190   0.859587            3  trip_ad_hotel_rev_bin_Train        2   \n",
       "39    0.946736   0.859206            4  trip_ad_hotel_rev_bin_Train        2   \n",
       "40    0.942654   0.851064            0  trip_ad_hotel_rev_bin_Train        2   \n",
       "41    0.942654   0.851064            1  trip_ad_hotel_rev_bin_Train        2   \n",
       "42    0.942365   0.848962            2  trip_ad_hotel_rev_bin_Train        2   \n",
       "43    0.945643   0.858161            3  trip_ad_hotel_rev_bin_Train        2   \n",
       "44    0.948102   0.863309            4  trip_ad_hotel_rev_bin_Train        2   \n",
       "45    0.944839   0.856125            0  trip_ad_hotel_rev_bin_Train        2   \n",
       "46    0.944293   0.854494            1  trip_ad_hotel_rev_bin_Train        2   \n",
       "47    0.944824   0.854885            2  trip_ad_hotel_rev_bin_Train        2   \n",
       "48    0.949467   0.867573            3  trip_ad_hotel_rev_bin_Train        2   \n",
       "49    0.947282   0.860851            4  trip_ad_hotel_rev_bin_Train        2   \n",
       "\n",
       "    dataset_len  percent_labeled_samples  exec_time_secs_9_runs  \n",
       "0         18307                      0.1              361.61208  \n",
       "1         18307                      0.1              361.61208  \n",
       "2         18307                      0.1              361.61208  \n",
       "3         18307                      0.1              361.61208  \n",
       "4         18307                      0.1              361.61208  \n",
       "5         18307                      0.2              361.61208  \n",
       "6         18307                      0.2              361.61208  \n",
       "7         18307                      0.2              361.61208  \n",
       "8         18307                      0.2              361.61208  \n",
       "9         18307                      0.2              361.61208  \n",
       "10        18307                      0.3              361.61208  \n",
       "11        18307                      0.3              361.61208  \n",
       "12        18307                      0.3              361.61208  \n",
       "13        18307                      0.3              361.61208  \n",
       "14        18307                      0.3              361.61208  \n",
       "15        18307                      0.4              361.61208  \n",
       "16        18307                      0.4              361.61208  \n",
       "17        18307                      0.4              361.61208  \n",
       "18        18307                      0.4              361.61208  \n",
       "19        18307                      0.4              361.61208  \n",
       "20        18307                      0.5              361.61208  \n",
       "21        18307                      0.5              361.61208  \n",
       "22        18307                      0.5              361.61208  \n",
       "23        18307                      0.5              361.61208  \n",
       "24        18307                      0.5              361.61208  \n",
       "25        18307                      0.6              361.61208  \n",
       "26        18307                      0.6              361.61208  \n",
       "27        18307                      0.6              361.61208  \n",
       "28        18307                      0.6              361.61208  \n",
       "29        18307                      0.6              361.61208  \n",
       "30        18307                      0.7              361.61208  \n",
       "31        18307                      0.7              361.61208  \n",
       "32        18307                      0.7              361.61208  \n",
       "33        18307                      0.7              361.61208  \n",
       "34        18307                      0.7              361.61208  \n",
       "35        18307                      0.8              361.61208  \n",
       "36        18307                      0.8              361.61208  \n",
       "37        18307                      0.8              361.61208  \n",
       "38        18307                      0.8              361.61208  \n",
       "39        18307                      0.8              361.61208  \n",
       "40        18307                      0.9              361.61208  \n",
       "41        18307                      0.9              361.61208  \n",
       "42        18307                      0.9              361.61208  \n",
       "43        18307                      0.9              361.61208  \n",
       "44        18307                      0.9              361.61208  \n",
       "45        18307                      1.0              361.61208  \n",
       "46        18307                      1.0              361.61208  \n",
       "47        18307                      1.0              361.61208  \n",
       "48        18307                      1.0              361.61208  \n",
       "49        18307                      1.0              361.61208  "
      ]
     },
     "execution_count": 28,
     "metadata": {},
     "output_type": "execute_result"
    }
   ],
   "source": [
    "dataset_report"
   ]
  },
  {
   "cell_type": "code",
   "execution_count": 29,
   "id": "b4cf5825-098a-4e2d-9650-f40a7943da44",
   "metadata": {},
   "outputs": [
    {
     "data": {
      "text/plain": [
       "<AxesSubplot:xlabel='percent_labeled_samples', ylabel='acc_scores'>"
      ]
     },
     "execution_count": 29,
     "metadata": {},
     "output_type": "execute_result"
    },
    {
     "data": {
      "image/png": "[encoded data removed]",
      "text/plain": [
       "<Figure size 576x432 with 1 Axes>"
      ]
     },
     "metadata": {
      "needs_background": "light"
     },
     "output_type": "display_data"
    }
   ],
   "source": [
    "plt.figure(figsize=(8,6))\n",
    "sns.boxplot(data=dataset_report, x=\"percent_labeled_samples\", y=\"acc_scores\", color=\"steelblue\")"
   ]
  },
  {
   "cell_type": "code",
   "execution_count": 30,
   "id": "1ac99c68-0bbd-4bae-9b51-c2f5415aad17",
   "metadata": {},
   "outputs": [],
   "source": [
    "dataset_report.to_csv(\"trip_advisor_hotel_rev_bin.csv\", index=False)"
   ]
  },
  {
   "cell_type": "code",
   "execution_count": 31,
   "id": "3e1df86a-32fc-4165-837a-37b4b9b0d426",
   "metadata": {},
   "outputs": [],
   "source": [
    "# fig, ax = plt.subplots(ncols=2, nrows=1, figsize=(12,6))\n",
    "# ax[0].scatter(i_range, acc_scores)\n",
    "# ax[0].plot(i_range, acc_scores)\n",
    "# ax[0].set_xlabel(\"Percent of Labeled Samples\")\n",
    "# ax[0].set_ylabel(\"Accuracy Score\")\n",
    "# ax[0].set_title(\"% of Labeled Samples Vs Accuracy Score\", fontweight=\"bold\")\n",
    "# ax[1].scatter(i_range, f1_scores)\n",
    "# ax[1].plot(i_range, f1_scores)\n",
    "# ax[1].set_xlabel(\"Percent of Labeled Samples\")\n",
    "# ax[1].set_ylabel(\"F1 Score\")\n",
    "# ax[1].set_title(\"% of Labeled Samples Vs F1 Score\", fontweight=\"bold\")\n",
    "# plt.show()"
   ]
  }
 ],
 "metadata": {
  "kernelspec": {
   "display_name": "default:Python",
   "language": "python",
   "name": "conda-env-default-py"
  },
  "language_info": {
   "codemirror_mode": {
    "name": "ipython",
    "version": 3
   },
   "file_extension": ".py",
   "mimetype": "text/x-python",
   "name": "python",
   "nbconvert_exporter": "python",
   "pygments_lexer": "ipython3",
   "version": "3.9.10"
  }
 },
 "nbformat": 4,
 "nbformat_minor": 5
}
